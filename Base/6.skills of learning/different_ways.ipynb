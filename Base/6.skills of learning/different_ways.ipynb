{
 "cells": [
  {
   "cell_type": "code",
   "execution_count": 19,
   "metadata": {},
   "outputs": [
    {
     "name": "stdout",
     "output_type": "stream",
     "text": [
      "W1:[[ 2.19275054 -1.35283164]\n",
      " [-0.66853869 -1.02904594]\n",
      " [ 1.24498725 -2.45411351]]\n",
      "[[ 2.19275054 -1.35283164]\n",
      " [-0.66853869 -1.02904594]\n",
      " [ 1.24498725 -2.45411351]]\n",
      "[-0.1485913   0.50701121  1.34666048]\n"
     ]
    }
   ],
   "source": [
    "import numpy as np\n",
    "\n",
    "class Momentum:\n",
    "    def __init__(self, lr=0.01, momentum=0.9) -> None:\n",
    "        self.lr = lr\n",
    "        self.momentum = momentum\n",
    "        self.v = None\n",
    "\n",
    "    def update(self, params, grads):\n",
    "        if self.v is None:\n",
    "            self.v = {}\n",
    "            for key, val in params.items():\n",
    "                self.v[key] = np.zeros_like(val)\n",
    "\n",
    "        for key in params.key():\n",
    "            self.v[key] = self.momentum*self.v[key]-self.lr*grads[key]\n",
    "            params[key] += self.v[key]\n",
    "\n",
    "sel={}\n",
    "sel[\"W1\"]=np.random.randn(3,2)\n",
    "sel[\"b1\"]=np.random.randn(3)\n",
    "v={}\n",
    "print(\"W1:\",end=\"\")\n",
    "print(sel[\"W1\"])\n",
    "for key,val in sel.items():\n",
    "    print(val)"
   ]
  },
  {
   "cell_type": "markdown",
   "metadata": {},
   "source": [
    "#### Momentum 方法\n",
    "\n",
    "$$ v \\leftarrow \\alpha v-\\eta\\frac{\\partial L}{\\partial W} $$\n",
    "$$ W \\leftarrow W+v$$\n",
    "\n",
    "$\\alpha$代表为0.9，对应是物理上的地面摩擦或者空气阻力"
   ]
  },
  {
   "cell_type": "code",
   "execution_count": 2,
   "metadata": {},
   "outputs": [],
   "source": [
    "class AdaGrad:\n",
    "    def __init__(self,lr=0.01) -> None:\n",
    "        self.lr=lr\n",
    "        self.h=None\n",
    "    def update(self,params,grads):\n",
    "        if self.h is None:\n",
    "            self.h={}\n",
    "            for key,val in params.items():\n",
    "                self.h[key]=np.zeros_like(val)\n",
    "        \n",
    "        for key in params.keys():\n",
    "            self.h[key]+=grads[key]*grads[key]\n",
    "            params[key]-=self.lr*grads[key]/(np.sqrt(self.h[key])+1e-7)"
   ]
  },
  {
   "cell_type": "markdown",
   "metadata": {},
   "source": [
    "##### AdaGrad\n",
    "- 适当的为每个元素调整学习率，与此同时进行学习\n",
    "- 即adaptive gradient\n",
    "$$ h\\leftarrow h+\\frac{\\partial L}{\\partial W}\\bigodot \\frac{\\partial L}{\\partial W}$$\n",
    "$$ W \\leftarrow W-\\eta\\frac{1}{\\sqrt h}\\frac{\\partial L}{\\partial W}$$\n",
    "\n",
    "$\\bigodot$代表矩阵元素的乘法"
   ]
  },
  {
   "cell_type": "code",
   "execution_count": null,
   "metadata": {},
   "outputs": [],
   "source": []
  }
 ],
 "metadata": {
  "interpreter": {
   "hash": "07efdcd4b820c98a756949507a4d29d7862823915ec7477944641bea022f4f62"
  },
  "kernelspec": {
   "display_name": "Python 3.8.5 64-bit ('base': conda)",
   "language": "python",
   "name": "python3"
  },
  "language_info": {
   "codemirror_mode": {
    "name": "ipython",
    "version": 3
   },
   "file_extension": ".py",
   "mimetype": "text/x-python",
   "name": "python",
   "nbconvert_exporter": "python",
   "pygments_lexer": "ipython3",
   "version": "3.8.5"
  },
  "orig_nbformat": 4
 },
 "nbformat": 4,
 "nbformat_minor": 2
}
