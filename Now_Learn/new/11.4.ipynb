{
 "cells": [
  {
   "cell_type": "code",
   "execution_count": 1,
   "metadata": {},
   "outputs": [],
   "source": [
    "import math\n",
    "import torch\n",
    "from d2l import torch as d2l\n",
    "\n"
   ]
  },
  {
   "cell_type": "code",
   "execution_count": null,
   "metadata": {},
   "outputs": [],
   "source": [
    "def f(x1, x2):\n",
    "    return x1**2+2*x2**2\n",
    "\n",
    "\n",
    "def f_grad(x1, x2):\n",
    "    return 2*x1, 4*x2\n",
    "\n",
    "\n",
    "def constant_lr():\n",
    "    return 1\n",
    "\n",
    "\n",
    "def sgd(x1, x2, s1, s2, f_grad):\n",
    "    eta = 0.1\n",
    "    lr = constant_lr\n",
    "    g1, g2 = f_grad(x1, x2)\n",
    "    g1 += torch.normal(0.0, 1, (1,))\n",
    "    g2 += torch.normal(0.0, 1, (1,))\n",
    "    eta_t = eta*lr()\n"
   ]
  }
 ],
 "metadata": {
  "interpreter": {
   "hash": "07efdcd4b820c98a756949507a4d29d7862823915ec7477944641bea022f4f62"
  },
  "kernelspec": {
   "display_name": "Python 3.8.8 64-bit ('base': conda)",
   "language": "python",
   "name": "python3"
  },
  "language_info": {
   "codemirror_mode": {
    "name": "ipython",
    "version": 3
   },
   "file_extension": ".py",
   "mimetype": "text/x-python",
   "name": "python",
   "nbconvert_exporter": "python",
   "pygments_lexer": "ipython3",
   "version": "3.8.8"
  },
  "orig_nbformat": 4
 },
 "nbformat": 4,
 "nbformat_minor": 2
}
